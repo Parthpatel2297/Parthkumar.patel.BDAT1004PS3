{
 "cells": [
  {
   "cell_type": "markdown",
   "metadata": {},
   "source": [
    "# Que1: Occupations "
   ]
  },
  {
   "cell_type": "code",
   "execution_count": 1,
   "metadata": {},
   "outputs": [],
   "source": [
    "import pandas as pd"
   ]
  },
  {
   "cell_type": "code",
   "execution_count": 2,
   "metadata": {},
   "outputs": [],
   "source": [
    "users = pd.read_csv('https://raw.githubusercontent.com/justmarkham/DAT8/master/data/u.user', sep='|')"
   ]
  },
  {
   "cell_type": "code",
   "execution_count": 3,
   "metadata": {},
   "outputs": [
    {
     "name": "stdout",
     "output_type": "stream",
     "text": [
      "occupation\n",
      "administrator    38.746835\n",
      "artist           31.392857\n",
      "doctor           43.571429\n",
      "educator         42.010526\n",
      "engineer         36.388060\n",
      "entertainment    29.222222\n",
      "executive        38.718750\n",
      "healthcare       41.562500\n",
      "homemaker        32.571429\n",
      "lawyer           36.750000\n",
      "librarian        40.000000\n",
      "marketing        37.615385\n",
      "none             26.555556\n",
      "other            34.523810\n",
      "programmer       33.121212\n",
      "retired          63.071429\n",
      "salesman         35.666667\n",
      "scientist        35.548387\n",
      "student          22.081633\n",
      "technician       33.148148\n",
      "writer           36.311111\n",
      "Name: age, dtype: float64\n"
     ]
    }
   ],
   "source": [
    "mean_age = users.groupby('occupation')['age'].mean()\n",
    "print(mean_age)"
   ]
  },
  {
   "cell_type": "code",
   "execution_count": 4,
   "metadata": {},
   "outputs": [
    {
     "name": "stdout",
     "output_type": "stream",
     "text": [
      "occupation\n",
      "doctor           1.000000\n",
      "engineer         0.970149\n",
      "technician       0.962963\n",
      "retired          0.928571\n",
      "programmer       0.909091\n",
      "executive        0.906250\n",
      "scientist        0.903226\n",
      "entertainment    0.888889\n",
      "lawyer           0.833333\n",
      "salesman         0.750000\n",
      "educator         0.726316\n",
      "student          0.693878\n",
      "other            0.657143\n",
      "marketing        0.615385\n",
      "writer           0.577778\n",
      "none             0.555556\n",
      "administrator    0.544304\n",
      "artist           0.535714\n",
      "librarian        0.431373\n",
      "healthcare       0.312500\n",
      "homemaker        0.142857\n",
      "Name: gender_num, dtype: float64\n"
     ]
    }
   ],
   "source": [
    "users['gender_num'] = users['gender'].apply(lambda x: 1 if x == 'M' else 0)\n",
    "male_ratio = users.groupby('occupation')['gender_num'].mean().sort_values(ascending=False)\n",
    "print(male_ratio)"
   ]
  },
  {
   "cell_type": "markdown",
   "metadata": {},
   "source": [
    "# Que:2 Euro Teams"
   ]
  },
  {
   "cell_type": "code",
   "execution_count": 5,
   "metadata": {},
   "outputs": [],
   "source": [
    "import pandas as pd"
   ]
  },
  {
   "cell_type": "code",
   "execution_count": 6,
   "metadata": {},
   "outputs": [],
   "source": [
    "euro12 = pd.read_csv('https://raw.githubusercontent.com/guipsamora/pandas_exercises/master/02_Filtering_%26_Sorting/Euro12/Euro_2012_stats_TEAM.csv')"
   ]
  },
  {
   "cell_type": "code",
   "execution_count": 7,
   "metadata": {},
   "outputs": [
    {
     "name": "stdout",
     "output_type": "stream",
     "text": [
      "0      4\n",
      "1      4\n",
      "2      4\n",
      "3      5\n",
      "4      3\n",
      "5     10\n",
      "6      5\n",
      "7      6\n",
      "8      2\n",
      "9      2\n",
      "10     6\n",
      "11     1\n",
      "12     5\n",
      "13    12\n",
      "14     5\n",
      "15     2\n",
      "Name: Goals, dtype: int64\n"
     ]
    }
   ],
   "source": [
    "goals = euro12['Goals']\n",
    "print(goals)"
   ]
  },
  {
   "cell_type": "markdown",
   "metadata": {},
   "source": [
    "# Que3: Housing"
   ]
  },
  {
   "cell_type": "code",
   "execution_count": 8,
   "metadata": {},
   "outputs": [],
   "source": [
    "import pandas as pd\n",
    "import numpy as np"
   ]
  },
  {
   "cell_type": "code",
   "execution_count": 9,
   "metadata": {},
   "outputs": [],
   "source": [
    "series1 = pd.Series(np.random.randint(1, 5, size=100))\n",
    "series2 = pd.Series(np.random.randint(1, 4, size=100))\n",
    "series3 = pd.Series(np.random.randint(10000, 30001, size=100))"
   ]
  },
  {
   "cell_type": "code",
   "execution_count": 10,
   "metadata": {},
   "outputs": [],
   "source": [
    "df = pd.concat([series1, series2, series3], axis=1)"
   ]
  },
  {
   "cell_type": "code",
   "execution_count": 11,
   "metadata": {},
   "outputs": [
    {
     "name": "stdout",
     "output_type": "stream",
     "text": [
      "   bedrs  bathrs  price_sqr_meter\n",
      "0      4       2            27472\n",
      "1      1       2            11522\n",
      "2      1       1            12154\n",
      "3      3       3            25213\n",
      "4      4       2            23687\n"
     ]
    }
   ],
   "source": [
    "df.columns = ['bedrs', 'bathrs', 'price_sqr_meter'] \n",
    "print(df.head()) # To check the DataFrame"
   ]
  },
  {
   "cell_type": "code",
   "execution_count": 12,
   "metadata": {},
   "outputs": [
    {
     "name": "stdout",
     "output_type": "stream",
     "text": [
      "     bigcolumn\n",
      "0            4\n",
      "1            1\n",
      "2            1\n",
      "3            3\n",
      "4            4\n",
      "..         ...\n",
      "295      14591\n",
      "296      18115\n",
      "297      25198\n",
      "298      14256\n",
      "299      16406\n",
      "\n",
      "[300 rows x 1 columns]\n"
     ]
    }
   ],
   "source": [
    "bigcolumn = pd.concat([series1, series2, series3], axis=0) \n",
    "bigcolumn = bigcolumn.reset_index(drop=True) \n",
    "bigcolumn_df = pd.DataFrame(bigcolumn, columns=['bigcolumn']) \n",
    "print(bigcolumn_df)"
   ]
  },
  {
   "cell_type": "code",
   "execution_count": 13,
   "metadata": {},
   "outputs": [
    {
     "name": "stdout",
     "output_type": "stream",
     "text": [
      "RangeIndex(start=0, stop=300, step=1)\n"
     ]
    }
   ],
   "source": [
    "print(bigcolumn_df.index)"
   ]
  },
  {
   "cell_type": "markdown",
   "metadata": {},
   "source": [
    "# Que4: Wind Statistics"
   ]
  },
  {
   "cell_type": "code",
   "execution_count": 14,
   "metadata": {},
   "outputs": [],
   "source": [
    "import pandas as pd\n",
    "import numpy as np"
   ]
  },
  {
   "cell_type": "code",
   "execution_count": 15,
   "metadata": {},
   "outputs": [],
   "source": [
    "data = pd.read_csv('wind.txt', delim_whitespace=True)"
   ]
  },
  {
   "cell_type": "code",
   "execution_count": 16,
   "metadata": {},
   "outputs": [],
   "source": [
    "# Combine the first three columns into a single datetime column\n",
    "data['date'] = pd.to_datetime(data[['Yr', 'Mo', 'Dy']].astype(str).agg('-'.join, axis=1))\n",
    "data.set_index('date', inplace=True)\n",
    "data.drop(['Yr', 'Mo', 'Dy'], axis=1, inplace=True)"
   ]
  },
  {
   "cell_type": "code",
   "execution_count": 17,
   "metadata": {},
   "outputs": [],
   "source": [
    "def fix_year(year):\n",
    "    if year > 1989:\n",
    "        return year - 100\n",
    "    return year\n",
    "\n",
    "data.index = data.index.map(lambda x: x.replace(year=fix_year(x.year)))"
   ]
  },
  {
   "cell_type": "code",
   "execution_count": 18,
   "metadata": {},
   "outputs": [
    {
     "name": "stdout",
     "output_type": "stream",
     "text": [
      "datetime64[ns]\n"
     ]
    }
   ],
   "source": [
    "print(data.index.dtype)"
   ]
  },
  {
   "cell_type": "code",
   "execution_count": 19,
   "metadata": {},
   "outputs": [
    {
     "name": "stdout",
     "output_type": "stream",
     "text": [
      "RPT    0\n",
      "VAL    1\n",
      "ROS    0\n",
      "KIL    0\n",
      "SHA    1\n",
      "BIR    0\n",
      "DUB    0\n",
      "CLA    1\n",
      "MUL    0\n",
      "CLO    0\n",
      "BEL    0\n",
      "MAL    0\n",
      "dtype: int64\n"
     ]
    }
   ],
   "source": [
    "missing_values = data.isna().sum()\n",
    "print(missing_values)"
   ]
  },
  {
   "cell_type": "code",
   "execution_count": 20,
   "metadata": {},
   "outputs": [
    {
     "name": "stdout",
     "output_type": "stream",
     "text": [
      "33\n"
     ]
    }
   ],
   "source": [
    "non_missing_values = data.notna().sum().sum()\n",
    "print(non_missing_values)"
   ]
  },
  {
   "cell_type": "code",
   "execution_count": 21,
   "metadata": {},
   "outputs": [
    {
     "name": "stdout",
     "output_type": "stream",
     "text": [
      "12.053333333333333\n"
     ]
    }
   ],
   "source": [
    "mean_windspeed = data.mean().mean()\n",
    "print(mean_windspeed)"
   ]
  },
  {
   "cell_type": "code",
   "execution_count": 22,
   "metadata": {},
   "outputs": [
    {
     "name": "stdout",
     "output_type": "stream",
     "text": [
      "       min    max       mean       std\n",
      "RPT  14.71  18.50  16.083333  2.099389\n",
      "VAL  14.96  16.88  15.920000  1.357645\n",
      "ROS  10.83  13.17  12.110000  1.185411\n",
      "KIL   6.50  10.13   8.640000  1.900289\n",
      "SHA  11.17  12.62  11.895000  1.025305\n",
      "BIR   6.17   9.87   7.903333  1.861003\n",
      "DUB  11.25  13.67  12.140000  1.330902\n",
      "CLA  10.04  10.25  10.145000  0.148492\n",
      "MUL   8.50  10.83   9.706667  1.167233\n",
      "CLO   7.67  12.58   9.973333  2.469015\n",
      "BEL  12.75  18.50  16.263333  3.080265\n",
      "MAL  12.71  15.04  13.860000  1.165290\n"
     ]
    }
   ],
   "source": [
    "loc_stats = data.describe().transpose()[['min', 'max', 'mean', 'std']]\n",
    "print(loc_stats)"
   ]
  },
  {
   "cell_type": "code",
   "execution_count": 23,
   "metadata": {},
   "outputs": [
    {
     "name": "stdout",
     "output_type": "stream",
     "text": [
      "             min    max       mean       std\n",
      "1961-01-01  9.29  18.50  13.018182  2.808875\n",
      "1961-01-02  6.50  17.54  11.336364  3.188994\n",
      "1961-01-03  6.17  18.50  11.641818  3.681912\n"
     ]
    }
   ],
   "source": [
    "day_stats = data.agg(['min', 'max', 'mean', 'std'], axis=1)\n",
    "print(day_stats)"
   ]
  },
  {
   "cell_type": "code",
   "execution_count": 24,
   "metadata": {},
   "outputs": [
    {
     "name": "stdout",
     "output_type": "stream",
     "text": [
      "RPT    16.083333\n",
      "VAL    15.920000\n",
      "ROS    12.110000\n",
      "KIL     8.640000\n",
      "SHA    11.895000\n",
      "BIR     7.903333\n",
      "DUB    12.140000\n",
      "CLA    10.145000\n",
      "MUL     9.706667\n",
      "CLO     9.973333\n",
      "BEL    16.263333\n",
      "MAL    13.860000\n",
      "dtype: float64\n"
     ]
    }
   ],
   "source": [
    "january_data = data[data.index.month == 1]\n",
    "january_mean_windspeed = january_data.mean()\n",
    "print(january_mean_windspeed)"
   ]
  },
  {
   "cell_type": "code",
   "execution_count": 25,
   "metadata": {},
   "outputs": [
    {
     "name": "stdout",
     "output_type": "stream",
     "text": [
      "                  RPT    VAL    ROS   KIL     SHA       BIR    DUB     CLA  \\\n",
      "date                                                                         \n",
      "1961-12-31  16.083333  15.92  12.11  8.64  11.895  7.903333  12.14  10.145   \n",
      "\n",
      "                 MUL       CLO        BEL    MAL  \n",
      "date                                              \n",
      "1961-12-31  9.706667  9.973333  16.263333  13.86  \n"
     ]
    }
   ],
   "source": [
    "yearly_data = data.resample('A').mean()\n",
    "print(yearly_data)"
   ]
  },
  {
   "cell_type": "code",
   "execution_count": 26,
   "metadata": {},
   "outputs": [
    {
     "name": "stdout",
     "output_type": "stream",
     "text": [
      "                  RPT    VAL    ROS   KIL     SHA       BIR    DUB     CLA  \\\n",
      "date                                                                         \n",
      "1961-01-31  16.083333  15.92  12.11  8.64  11.895  7.903333  12.14  10.145   \n",
      "\n",
      "                 MUL       CLO        BEL    MAL  \n",
      "date                                              \n",
      "1961-01-31  9.706667  9.973333  16.263333  13.86  \n"
     ]
    }
   ],
   "source": [
    "monthly_data = data.resample('M').mean()\n",
    "print(monthly_data)"
   ]
  },
  {
   "cell_type": "code",
   "execution_count": 27,
   "metadata": {},
   "outputs": [
    {
     "name": "stdout",
     "output_type": "stream",
     "text": [
      "               RPT    VAL    ROS    KIL     SHA   BIR     DUB    CLA     MUL  \\\n",
      "date                                                                           \n",
      "1961-01-01  15.040  14.96  13.17  9.290     NaN  9.87  13.670  10.25  10.830   \n",
      "1961-01-08  16.605  16.88  11.58  8.315  11.895  6.92  11.375  10.04   9.145   \n",
      "\n",
      "              CLO     BEL    MAL  \n",
      "date                              \n",
      "1961-01-01  12.58  18.500  15.04  \n",
      "1961-01-08   8.67  15.145  13.27  \n"
     ]
    }
   ],
   "source": [
    "weekly_data = data.resample('W').mean()\n",
    "print(weekly_data)"
   ]
  },
  {
   "cell_type": "code",
   "execution_count": 28,
   "metadata": {},
   "outputs": [
    {
     "name": "stdout",
     "output_type": "stream",
     "text": [
      "              RPT                             VAL                      ROS  \\\n",
      "              min    max    mean       std    min    max   mean std    min   \n",
      "date                                                                         \n",
      "1961-01-01  15.04  15.04  15.040       NaN  14.96  14.96  14.96 NaN  13.17   \n",
      "1961-01-08  14.71  18.50  16.605  2.679935  16.88  16.88  16.88 NaN  10.83   \n",
      "\n",
      "                   ...    CLO              BEL                           \\\n",
      "              max  ...   mean       std    min    max    mean       std   \n",
      "date               ...                                                    \n",
      "1961-01-01  13.17  ...  12.58       NaN  18.50  18.50  18.500       NaN   \n",
      "1961-01-08  12.33  ...   8.67  1.414214  12.75  17.54  15.145  3.387041   \n",
      "\n",
      "              MAL                         \n",
      "              min    max   mean      std  \n",
      "date                                      \n",
      "1961-01-01  15.04  15.04  15.04      NaN  \n",
      "1961-01-08  12.71  13.83  13.27  0.79196  \n",
      "\n",
      "[2 rows x 48 columns]\n"
     ]
    }
   ],
   "source": [
    "weekly_stats = data.resample('W').agg(['min', 'max', 'mean', 'std']).head(52)\n",
    "print(weekly_stats)"
   ]
  },
  {
   "cell_type": "markdown",
   "metadata": {},
   "source": [
    "# Que5"
   ]
  },
  {
   "cell_type": "code",
   "execution_count": 29,
   "metadata": {},
   "outputs": [],
   "source": [
    "import pandas as pd"
   ]
  },
  {
   "cell_type": "code",
   "execution_count": 30,
   "metadata": {},
   "outputs": [],
   "source": [
    "users = pd.read_csv('https://raw.githubusercontent.com/justmarkham/DAT8/master/data/chipotle.tsv', sep='|')"
   ]
  },
  {
   "cell_type": "code",
   "execution_count": 31,
   "metadata": {},
   "outputs": [
    {
     "name": "stdout",
     "output_type": "stream",
     "text": [
      "  order_id\\tquantity\\titem_name\\tchoice_description\\titem_price\n",
      "0   1\\t1\\tChips and Fresh Tomato Salsa\\tNULL\\t$2.39            \n",
      "1                   1\\t1\\tIzze\\t[Clementine]\\t$3.39            \n",
      "2            1\\t1\\tNantucket Nectar\\t[Apple]\\t$3.39            \n",
      "3  1\\t1\\tChips and Tomatillo-Green Chili Salsa\\tN...           \n",
      "4  2\\t2\\tChicken Bowl\\t[Tomatillo-Red Chili Salsa...           \n",
      "5  3\\t1\\tChicken Bowl\\t[Fresh Tomato Salsa (Mild)...           \n",
      "6                  3\\t1\\tSide of Chips\\tNULL\\t$1.69            \n",
      "7  4\\t1\\tSteak Burrito\\t[Tomatillo Red Chili Sals...           \n",
      "8  4\\t1\\tSteak Soft Tacos\\t[Tomatillo Green Chili...           \n",
      "9  5\\t1\\tSteak Burrito\\t[Fresh Tomato Salsa, [Ric...           \n"
     ]
    }
   ],
   "source": [
    "print(users.head(10))"
   ]
  },
  {
   "cell_type": "code",
   "execution_count": 32,
   "metadata": {},
   "outputs": [
    {
     "name": "stdout",
     "output_type": "stream",
     "text": [
      "Number of observations: 4622\n"
     ]
    }
   ],
   "source": [
    "num_observations = users.shape[0]\n",
    "print(\"Number of observations:\", num_observations)"
   ]
  },
  {
   "cell_type": "code",
   "execution_count": 33,
   "metadata": {},
   "outputs": [
    {
     "name": "stdout",
     "output_type": "stream",
     "text": [
      "Number of columns: 1\n"
     ]
    }
   ],
   "source": [
    "num_columns = users.shape[1]\n",
    "print(\"Number of columns:\", num_columns)"
   ]
  },
  {
   "cell_type": "code",
   "execution_count": 34,
   "metadata": {},
   "outputs": [
    {
     "name": "stdout",
     "output_type": "stream",
     "text": [
      "Column names: ['order_id\\tquantity\\titem_name\\tchoice_description\\titem_price']\n"
     ]
    }
   ],
   "source": [
    "print(\"Column names:\", users.columns.tolist())"
   ]
  },
  {
   "cell_type": "code",
   "execution_count": 35,
   "metadata": {},
   "outputs": [
    {
     "name": "stdout",
     "output_type": "stream",
     "text": [
      "Dataset index: RangeIndex(start=0, stop=4622, step=1)\n"
     ]
    }
   ],
   "source": [
    "print(\"Dataset index:\", users.index)"
   ]
  },
  {
   "cell_type": "markdown",
   "metadata": {},
   "source": [
    "# Que6"
   ]
  },
  {
   "cell_type": "code",
   "execution_count": 36,
   "metadata": {},
   "outputs": [],
   "source": [
    "import pandas as pd\n",
    "import matplotlib.pyplot as plt"
   ]
  },
  {
   "cell_type": "code",
   "execution_count": 37,
   "metadata": {},
   "outputs": [],
   "source": [
    "x = data"
   ]
  },
  {
   "cell_type": "code",
   "execution_count": 38,
   "metadata": {},
   "outputs": [],
   "source": [
    "data = {\n",
    "    'Year': [1867, 1868, 1869, ..., 2014],  # Include all the years\n",
    "    'Marriages_per_1000': [x, x, x, ..., x],  # Replace 'x' with actual data\n",
    "    'Divorces_per_1000': [x, x, x, ..., x]  # Replace 'x' with actual data\n",
    "}"
   ]
  },
  {
   "cell_type": "code",
   "execution_count": 39,
   "metadata": {},
   "outputs": [],
   "source": [
    "df = pd.DataFrame(data)"
   ]
  },
  {
   "cell_type": "code",
   "execution_count": 40,
   "metadata": {},
   "outputs": [
    {
     "data": {
      "text/plain": [
       "<Figure size 720x360 with 0 Axes>"
      ]
     },
     "execution_count": 40,
     "metadata": {},
     "output_type": "execute_result"
    },
    {
     "data": {
      "text/plain": [
       "<Figure size 720x360 with 0 Axes>"
      ]
     },
     "metadata": {},
     "output_type": "display_data"
    }
   ],
   "source": [
    "plt.figure(figsize=(10, 5))"
   ]
  },
  {
   "cell_type": "code",
   "execution_count": 41,
   "metadata": {},
   "outputs": [],
   "source": [
    "# Plotting Marriages per capita                     \n",
    "# plt.plot(df['Year'], df['Marriages_per_1000'], label='Marriages per 1000')\n",
    "# Plotting Divorces per capita\n",
    "# plt.plot(df['Year'], df['Divorces_per_1000'], label='Divorces per 1000')\n",
    "\n",
    "# Adding title and labels\n",
    "# plt.title('Marriages and Divorces per Capita in the U.S. (1867-2014)')\n",
    "# plt.xlabel('Year')\n",
    "# plt.ylabel('Number per 1000 people')\n",
    "\n",
    "# Showing the legend\n",
    "# plt.legend()\n",
    "\n",
    "# Displaying the plot\n",
    "# plt.show() "
   ]
  },
  {
   "cell_type": "markdown",
   "metadata": {},
   "source": [
    "# Que7"
   ]
  },
  {
   "cell_type": "code",
   "execution_count": 42,
   "metadata": {},
   "outputs": [],
   "source": [
    "import pandas as pd\n",
    "import matplotlib.pyplot as plt"
   ]
  },
  {
   "cell_type": "code",
   "execution_count": 43,
   "metadata": {},
   "outputs": [],
   "source": [
    "data = {\n",
    "    'Year': [1900, 1950, 2000],\n",
    "    'Marriages_per_1000': [9.3, 11.1, 8.2],  # Replace these values with actual data\n",
    "    'Divorces_per_1000': [0.7, 2.6, 4.0]  # Replace these values with actual data\n",
    "}\n",
    "df = pd.DataFrame(data)"
   ]
  },
  {
   "cell_type": "code",
   "execution_count": 44,
   "metadata": {},
   "outputs": [
    {
     "data": {
      "image/png": "[encoded data removed]",
      "text/plain": [
       "<Figure size 720x432 with 1 Axes>"
      ]
     },
     "metadata": {
      "needs_background": "light"
     },
     "output_type": "display_data"
    }
   ],
   "source": [
    "# Set the position of the bars on the x-axis\n",
    "positions = range(len(df))\n",
    "\n",
    "plt.figure(figsize=(10, 6))\n",
    "\n",
    "# Create a bar for marriages\n",
    "plt.bar(positions, df['Marriages_per_1000'], width=0.4, label='Marriages per 1000', align='center')\n",
    "\n",
    "# Create a bar for divorces\n",
    "plt.bar([p + 0.4 for p in positions], df['Divorces_per_1000'], width=0.4, label='Divorces per 1000', align='center')\n",
    "\n",
    "# Add the labels\n",
    "plt.xlabel('Year')\n",
    "plt.ylabel('Number per 1000 people')\n",
    "plt.title('Marriages and Divorces per Capita in the U.S. (1900, 1950, 2000)')\n",
    "plt.xticks([p + 0.2 for p in positions], df['Year'])\n",
    "\n",
    "# Show the legend\n",
    "plt.legend()\n",
    "\n",
    "# Display the plot\n",
    "plt.show()"
   ]
  },
  {
   "cell_type": "markdown",
   "metadata": {},
   "source": [
    "# Que8"
   ]
  },
  {
   "cell_type": "code",
   "execution_count": 45,
   "metadata": {},
   "outputs": [],
   "source": [
    "import pandas as pd\n",
    "import matplotlib.pyplot as plt"
   ]
  },
  {
   "cell_type": "code",
   "execution_count": 46,
   "metadata": {},
   "outputs": [],
   "source": [
    "data = {\n",
    "    'Actor': ['Actor A', 'Actor B', 'Actor C', 'Actor D', 'Actor E'],  # Replace with actual actor names\n",
    "    'Kill_Count': [100, 150, 200, 250, 300]  # Replace with actual kill counts\n",
    "}\n",
    "df = pd.DataFrame(data)\n",
    "df = df.sort_values(by='Kill_Count', ascending=False)"
   ]
  },
  {
   "cell_type": "code",
   "execution_count": 47,
   "metadata": {},
   "outputs": [
    {
     "data": {
      "image/png": "[encoded data removed]",
      "text/plain": [
       "<Figure size 720x432 with 1 Axes>"
      ]
     },
     "metadata": {
      "needs_background": "light"
     },
     "output_type": "display_data"
    }
   ],
   "source": [
    "plt.figure(figsize=(10, 6))\n",
    "\n",
    "# Create the horizontal bar chart\n",
    "plt.barh(df['Actor'], df['Kill_Count'], color='skyblue')\n",
    "\n",
    "# Add the labels\n",
    "plt.xlabel('Kill Count')\n",
    "plt.ylabel('Actor')\n",
    "plt.title('Deadliest Actors in Hollywood')\n",
    "\n",
    "# Display the plot\n",
    "plt.show()"
   ]
  },
  {
   "cell_type": "markdown",
   "metadata": {},
   "source": [
    "# Que9"
   ]
  },
  {
   "cell_type": "code",
   "execution_count": 48,
   "metadata": {},
   "outputs": [],
   "source": [
    "import pandas as pd\n",
    "import matplotlib.pyplot as plt"
   ]
  },
  {
   "cell_type": "code",
   "execution_count": 49,
   "metadata": {},
   "outputs": [],
   "source": [
    "data = {\n",
    "    'Category': ['Assassinated', 'Not Assassinated'],\n",
    "    'Count': [62, 158]  # Replace these values with your actual data\n",
    "}\n",
    "df = pd.DataFrame(data)"
   ]
  },
  {
   "cell_type": "code",
   "execution_count": 50,
   "metadata": {},
   "outputs": [
    {
     "data": {
      "image/png": "[encoded data removed]",
      "text/plain": [
       "<Figure size 576x576 with 1 Axes>"
      ]
     },
     "metadata": {},
     "output_type": "display_data"
    }
   ],
   "source": [
    "plt.figure(figsize=(8, 8))\n",
    "\n",
    "# Create the pie chart\n",
    "plt.pie(df['Count'], labels=df['Category'], autopct='%1.1f%%', startangle=140)\n",
    "\n",
    "# Ensure the pie chart is a circle\n",
    "plt.axis('equal')\n",
    "\n",
    "# Add title\n",
    "plt.title('Fraction of Roman Emperors Assassinated')\n",
    "\n",
    "# Display the chart\n",
    "plt.show()"
   ]
  },
  {
   "cell_type": "markdown",
   "metadata": {},
   "source": [
    "# Que10"
   ]
  },
  {
   "cell_type": "code",
   "execution_count": 51,
   "metadata": {},
   "outputs": [],
   "source": [
    "import pandas as pd\n",
    "import matplotlib.pyplot as plt"
   ]
  },
  {
   "cell_type": "code",
   "execution_count": 52,
   "metadata": {},
   "outputs": [],
   "source": [
    "data = {\n",
    "    'Year': [2000, 2001, 2002, 2003, 2004, 2005, 2006, 2007, 2008, 2009],\n",
    "    'Arcade_Revenue': [1.5, 1.6, 1.7, 1.8, 1.8, 1.9, 2.0, 2.1, 2.2, 2.3],  # Replace with actual revenue data\n",
    "    'CS_PhDs_Awarded': [800, 850, 900, 950, 1000, 1050, 1100, 1150, 1200, 1250]  # Replace with actual PhD data\n",
    "}\n",
    "df = pd.DataFrame(data)"
   ]
  },
  {
   "cell_type": "code",
   "execution_count": 53,
   "metadata": {},
   "outputs": [
    {
     "data": {
      "image/png": "[encoded data removed]",
      "text/plain": [
       "<Figure size 720x432 with 2 Axes>"
      ]
     },
     "metadata": {
      "needs_background": "light"
     },
     "output_type": "display_data"
    }
   ],
   "source": [
    "plt.figure(figsize=(10, 6))\n",
    "\n",
    "# Scatter plot\n",
    "plt.scatter(df['Arcade_Revenue'], df['CS_PhDs_Awarded'], c=df['Year'], cmap='viridis', edgecolor='k')\n",
    "\n",
    "# Add the labels\n",
    "plt.xlabel('Total Revenue Earned by Arcades (in billions)')\n",
    "plt.ylabel('Number of CS PhDs Awarded')\n",
    "plt.title('Relationship between Arcade Revenue and CS PhDs Awarded (2000-2009)')\n",
    "\n",
    "# Add a colorbar\n",
    "cbar = plt.colorbar()\n",
    "cbar.set_label('Year')\n",
    "\n",
    "# Display the plot\n",
    "plt.show()"
   ]
  },
  {
   "cell_type": "code",
   "execution_count": null,
   "metadata": {},
   "outputs": [],
   "source": []
  }
 ],
 "metadata": {
  "kernelspec": {
   "display_name": "Python 3",
   "language": "python",
   "name": "python3"
  },
  "language_info": {
   "codemirror_mode": {
    "name": "ipython",
    "version": 3
   },
   "file_extension": ".py",
   "mimetype": "text/x-python",
   "name": "python",
   "nbconvert_exporter": "python",
   "pygments_lexer": "ipython3",
   "version": "3.7.6"
  }
 },
 "nbformat": 4,
 "nbformat_minor": 4
}
